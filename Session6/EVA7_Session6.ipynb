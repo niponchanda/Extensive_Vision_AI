{
  "nbformat": 4,
  "nbformat_minor": 0,
  "metadata": {
    "colab": {
      "name": "EVA7_Session6.ipynb",
      "provenance": []
    },
    "kernelspec": {
      "name": "python3",
      "display_name": "Python 3"
    },
    "language_info": {
      "name": "python"
    },
    "accelerator": "GPU"
  },
  "cells": [
    {
      "cell_type": "code",
      "metadata": {
        "colab": {
          "base_uri": "https://localhost:8080/"
        },
        "id": "jq23e2hgSFPr",
        "outputId": "3a2a3641-4b3e-4f42-b125-e4d4ea7b935e"
      },
      "source": [
        "from __future__ import print_function\n",
        "import torch\n",
        "import torch.nn as nn\n",
        "import torch.nn.functional as F\n",
        "import torch.optim as optim\n",
        "from torchvision import datasets, transforms\n",
        "import matplotlib.pyplot as plt\n",
        "from torch.optim.lr_scheduler import StepLR\n",
        "from model import Net\n",
        "from tqdm import tqdm\n",
        "import numpy as np\n",
        "import matplotlib.pyplot as plt\n",
        "! pip install torchsummary\n",
        "from torchsummary import summary\n",
        "\n",
        "%matplotlib inline"
      ],
      "execution_count": 1,
      "outputs": [
        {
          "output_type": "stream",
          "name": "stdout",
          "text": [
            "Requirement already satisfied: torchsummary in /usr/local/lib/python3.7/dist-packages (1.5.1)\n"
          ]
        }
      ]
    },
    {
      "cell_type": "code",
      "metadata": {
        "id": "75dNyAJdS4Gy"
      },
      "source": [
        ""
      ],
      "execution_count": 1,
      "outputs": []
    },
    {
      "cell_type": "code",
      "metadata": {
        "id": "aemDcFaXSNVD"
      },
      "source": [
        "# Train Phase transformations\n",
        "train_transforms = transforms.Compose([\n",
        "                                      #  transforms.Resize((28, 28)), \n",
        "                                       transforms.ColorJitter(brightness=0.40, contrast=0.4, saturation=0.40, hue=0.1),\n",
        "                                       transforms.RandomAffine(degrees=7, shear=10, translate=(0.1, 0.1), scale=(0.8, 1.2)),\n",
        "                                       transforms.RandomRotation((-7.0, 7.0), fill=(1,)),\n",
        "                                       transforms.ToTensor(),\n",
        "                                       transforms.Normalize((0.1307,), (0.3081,)) # The mean and std have to be sequences (e.g., tuples), therefore you should add a comma after the values. \n",
        "                                       # Note the difference between (0.1307) and (0.1307,)\n",
        "                                       ])\n",
        "\n",
        "# Test Phase transformations\n",
        "test_transforms = transforms.Compose([\n",
        "                                      #  transforms.Resize((28, 28)),\n",
        "                                      #  transforms.ColorJitter(brightness=0.10, contrast=0.1, saturation=0.10, hue=0.1),\n",
        "                                       transforms.ToTensor(),\n",
        "                                       transforms.Normalize((0.1307,), (0.3081,))\n",
        "                                       ])"
      ],
      "execution_count": 2,
      "outputs": []
    },
    {
      "cell_type": "code",
      "metadata": {
        "colab": {
          "base_uri": "https://localhost:8080/"
        },
        "id": "h0kH_230SkPG",
        "outputId": "34ed3e35-2156-4ed7-96cf-76b1dd07e963"
      },
      "source": [
        "train = datasets.MNIST('./data', train=True, download=True, transform=train_transforms)\n",
        "test = datasets.MNIST('./data', train=False, download=True, transform=test_transforms)"
      ],
      "execution_count": 3,
      "outputs": [
        {
          "output_type": "stream",
          "name": "stderr",
          "text": [
            "/usr/local/lib/python3.7/dist-packages/torchvision/datasets/mnist.py:498: UserWarning: The given NumPy array is not writeable, and PyTorch does not support non-writeable tensors. This means you can write to the underlying (supposedly non-writeable) NumPy array using the tensor. You may want to copy the array to protect its data or make it writeable before converting it to a tensor. This type of warning will be suppressed for the rest of this program. (Triggered internally at  /pytorch/torch/csrc/utils/tensor_numpy.cpp:180.)\n",
            "  return torch.from_numpy(parsed.astype(m[2], copy=False)).view(*s)\n"
          ]
        }
      ]
    },
    {
      "cell_type": "code",
      "metadata": {
        "colab": {
          "base_uri": "https://localhost:8080/"
        },
        "id": "dtZcds27SpFT",
        "outputId": "be96bfd3-b008-4472-917d-a5d4f725197d"
      },
      "source": [
        "SEED = 1\n",
        "\n",
        "# CUDA?\n",
        "cuda = torch.cuda.is_available()\n",
        "\n",
        "\n",
        "use_cuda = torch.cuda.is_available()\n",
        "device = torch.device(\"cuda\" if use_cuda else \"cpu\")\n",
        "\n",
        "# For reproducibility\n",
        "torch.manual_seed(SEED)\n",
        "\n",
        "if cuda:\n",
        "    torch.cuda.manual_seed(SEED)\n",
        "\n",
        "# dataloader arguments - something you'll fetch these from cmdprmt\n",
        "dataloader_args = dict(shuffle=True, batch_size=128, num_workers=4, pin_memory=True) if cuda else dict(shuffle=True, batch_size=64)\n",
        "\n",
        "# train dataloader\n",
        "train_loader = torch.utils.data.DataLoader(train, **dataloader_args)\n",
        "\n",
        "# test dataloader\n",
        "test_loader = torch.utils.data.DataLoader(test, **dataloader_args)"
      ],
      "execution_count": 4,
      "outputs": [
        {
          "output_type": "stream",
          "name": "stderr",
          "text": [
            "/usr/local/lib/python3.7/dist-packages/torch/utils/data/dataloader.py:481: UserWarning: This DataLoader will create 4 worker processes in total. Our suggested max number of worker in current system is 2, which is smaller than what this DataLoader is going to create. Please be aware that excessive worker creation might get DataLoader running slow or even freeze, lower the worker number to avoid potential slowness/freeze if necessary.\n",
            "  cpuset_checked))\n"
          ]
        }
      ]
    },
    {
      "cell_type": "code",
      "metadata": {
        "id": "Hw79_ZlvS54-"
      },
      "source": [
        "\n",
        "\n",
        "train_losses = []\n",
        "test_losses = []\n",
        "train_acc = []\n",
        "test_acc = []\n",
        "\n",
        "lambda_1 = 0.01\n",
        "\n",
        "\n",
        "# L1 Norm\n",
        "def train(model, device, train_loader, optimizer, epoch, L1=False):\n",
        "  model.train()\n",
        "  pbar = tqdm(train_loader)\n",
        "  correct = 0\n",
        "  processed = 0\n",
        "  for batch_idx, (data, target) in enumerate(pbar):\n",
        "    # get samples\n",
        "    data, target = data.to(device), target.to(device)\n",
        "\n",
        "    # Init\n",
        "    optimizer.zero_grad()\n",
        "    # In PyTorch, we need to set the gradients to zero before starting to do backpropragation because PyTorch accumulates the gradients on subsequent backward passes. \n",
        "    # Because of this, when you start your training loop, ideally you should zero out the gradients so that you do the parameter update correctly.\n",
        "\n",
        "    # Predict\n",
        "    y_pred = model(data)\n",
        "\n",
        "    # Calculate loss\n",
        "    loss = F.nll_loss(y_pred, target)\n",
        "\n",
        "    # if using L1 regularization\n",
        "    l1 = 1 if L1 else 0\n",
        "\n",
        "    if l1:\n",
        "      for p in model.parameters():\n",
        "        l1 += torch.norm(p)\n",
        "\n",
        "    loss += lambda_1 * l1\n",
        "    train_losses.append(loss)\n",
        "\n",
        "    # Backpropagation\n",
        "    loss.backward()\n",
        "    optimizer.step()\n",
        "\n",
        "    # Update pbar-tqdm\n",
        "    \n",
        "    pred = y_pred.argmax(dim=1, keepdim=True)  # get the index of the max log-probability\n",
        "    correct += pred.eq(target.view_as(pred)).sum().item()\n",
        "    processed += len(data)\n",
        "\n",
        "    pbar.set_description(desc= f'Loss={loss.item()} Batch_id={batch_idx} Accuracy={100*correct/processed:0.2f}')\n",
        "    train_acc.append(100*correct/processed)\n",
        "\n",
        "\n",
        "def test(model, device, test_loader):\n",
        "    model.eval()\n",
        "    test_loss = 0\n",
        "    correct = 0\n",
        "    with torch.no_grad():\n",
        "        for data, target in test_loader:\n",
        "            data, target = data.to(device), target.to(device)\n",
        "            output = model(data)\n",
        "            test_loss += F.nll_loss(output, target, reduction='sum').item()  # sum up batch loss\n",
        "            pred = output.argmax(dim=1, keepdim=True)  # get the index of the max log-probability\n",
        "            correct += pred.eq(target.view_as(pred)).sum().item()\n",
        "\n",
        "    test_loss /= len(test_loader.dataset)\n",
        "    test_losses.append(test_loss)\n",
        "\n",
        "    print('\\nTest set: Average loss: {:.4f}, Accuracy: {}/{} ({:.2f}%)\\n'.format(\n",
        "        test_loss, correct, len(test_loader.dataset),\n",
        "        100. * correct / len(test_loader.dataset)))\n",
        "    \n",
        "    test_acc.append(100. * correct / len(test_loader.dataset))\n"
      ],
      "execution_count": 5,
      "outputs": []
    },
    {
      "cell_type": "code",
      "metadata": {
        "colab": {
          "base_uri": "https://localhost:8080/"
        },
        "id": "bOCgKLJUTHfo",
        "outputId": "dda68bdf-7af2-4762-a387-2357a097911c"
      },
      "source": [
        "norm_options = [\"BN\", \"GN\", \"LN\"]\n",
        "\n",
        "metrics = {}\n",
        "\n",
        "for norm in norm_options:\n",
        "  model = Net(norm).to(device)\n",
        "  print(f\"Norm Type - { norm }\")\n",
        "\n",
        "  # print summary for norm type\n",
        "  summary(model, input_size=(1, 28, 28))\n",
        "\n",
        "  train_losses = []\n",
        "  test_losses = []\n",
        "  train_acc = []\n",
        "  test_acc = []\n",
        "\n",
        "  lambda_1 = 0.01\n",
        "\n",
        "  EPOCHS = 15\n",
        "\n",
        "  model =  Net(norm).to(device)\n",
        "  optimizer = optim.SGD(model.parameters(), lr=0.01, momentum=0.9)\n",
        "  scheduler = StepLR(optimizer, step_size=8, gamma=0.1)\n",
        "\n",
        "  \n",
        "  for epoch in range(EPOCHS):\n",
        "      print(\"EPOCH:\", epoch)\n",
        "\n",
        "      # use L1 if norm is BN\n",
        "      L1 = 1 if norm == \"BN\" else 0\n",
        "\n",
        "      train(model, device, train_loader, optimizer, epoch, L1=L1)\n",
        "      scheduler.step()\n",
        "      test(model, device, test_loader)\n",
        "  \n",
        "\n",
        "  metrics[norm] = [train_losses, test_losses, train_acc, test_acc]\n"
      ],
      "execution_count": 7,
      "outputs": [
        {
          "output_type": "stream",
          "name": "stdout",
          "text": [
            "Norm Type - BN\n",
            "----------------------------------------------------------------\n",
            "        Layer (type)               Output Shape         Param #\n",
            "================================================================\n",
            "            Conv2d-1           [-1, 16, 26, 26]             144\n",
            "              ReLU-2           [-1, 16, 26, 26]               0\n",
            "       BatchNorm2d-3           [-1, 16, 26, 26]              32\n",
            "           Dropout-4           [-1, 16, 26, 26]               0\n",
            "            Conv2d-5           [-1, 16, 24, 24]           2,304\n",
            "              ReLU-6           [-1, 16, 24, 24]               0\n",
            "       BatchNorm2d-7           [-1, 16, 24, 24]              32\n",
            "           Dropout-8           [-1, 16, 24, 24]               0\n",
            "            Conv2d-9           [-1, 16, 24, 24]             256\n",
            "        MaxPool2d-10           [-1, 16, 12, 12]               0\n",
            "           Conv2d-11           [-1, 16, 10, 10]           2,304\n",
            "             ReLU-12           [-1, 16, 10, 10]               0\n",
            "      BatchNorm2d-13           [-1, 16, 10, 10]              32\n",
            "          Dropout-14           [-1, 16, 10, 10]               0\n",
            "           Conv2d-15             [-1, 16, 8, 8]           2,304\n",
            "             ReLU-16             [-1, 16, 8, 8]               0\n",
            "      BatchNorm2d-17             [-1, 16, 8, 8]              32\n",
            "          Dropout-18             [-1, 16, 8, 8]               0\n",
            "           Conv2d-19             [-1, 20, 6, 6]           2,880\n",
            "             ReLU-20             [-1, 20, 6, 6]               0\n",
            "      BatchNorm2d-21             [-1, 20, 6, 6]              40\n",
            "          Dropout-22             [-1, 20, 6, 6]               0\n",
            "        AvgPool2d-23             [-1, 20, 1, 1]               0\n",
            "           Conv2d-24             [-1, 16, 1, 1]             320\n",
            "           Conv2d-25             [-1, 10, 1, 1]             160\n",
            "================================================================\n",
            "Total params: 10,840\n",
            "Trainable params: 10,840\n",
            "Non-trainable params: 0\n",
            "----------------------------------------------------------------\n",
            "Input size (MB): 0.00\n",
            "Forward/backward pass size (MB): 0.80\n",
            "Params size (MB): 0.04\n",
            "Estimated Total Size (MB): 0.85\n",
            "----------------------------------------------------------------\n",
            "EPOCH: 0\n"
          ]
        },
        {
          "output_type": "stream",
          "name": "stderr",
          "text": [
            "\r  0%|          | 0/469 [00:00<?, ?it/s]/usr/local/lib/python3.7/dist-packages/torch/utils/data/dataloader.py:481: UserWarning: This DataLoader will create 4 worker processes in total. Our suggested max number of worker in current system is 2, which is smaller than what this DataLoader is going to create. Please be aware that excessive worker creation might get DataLoader running slow or even freeze, lower the worker number to avoid potential slowness/freeze if necessary.\n",
            "  cpuset_checked))\n",
            "Loss=0.566280722618103 Batch_id=468 Accuracy=76.84: 100%|██████████| 469/469 [00:55<00:00,  8.38it/s]\n"
          ]
        },
        {
          "output_type": "stream",
          "name": "stdout",
          "text": [
            "\n",
            "Test set: Average loss: 0.0936, Accuracy: 9732/10000 (97.32%)\n",
            "\n",
            "EPOCH: 1\n"
          ]
        },
        {
          "output_type": "stream",
          "name": "stderr",
          "text": [
            "Loss=0.6192325353622437 Batch_id=468 Accuracy=95.39: 100%|██████████| 469/469 [00:55<00:00,  8.42it/s]\n"
          ]
        },
        {
          "output_type": "stream",
          "name": "stdout",
          "text": [
            "\n",
            "Test set: Average loss: 0.0711, Accuracy: 9803/10000 (98.03%)\n",
            "\n",
            "EPOCH: 2\n"
          ]
        },
        {
          "output_type": "stream",
          "name": "stderr",
          "text": [
            "Loss=0.508406937122345 Batch_id=468 Accuracy=96.28: 100%|██████████| 469/469 [00:55<00:00,  8.47it/s]\n"
          ]
        },
        {
          "output_type": "stream",
          "name": "stdout",
          "text": [
            "\n",
            "Test set: Average loss: 0.0586, Accuracy: 9821/10000 (98.21%)\n",
            "\n",
            "EPOCH: 3\n"
          ]
        },
        {
          "output_type": "stream",
          "name": "stderr",
          "text": [
            "Loss=0.5547385215759277 Batch_id=468 Accuracy=96.54: 100%|██████████| 469/469 [00:55<00:00,  8.44it/s]\n"
          ]
        },
        {
          "output_type": "stream",
          "name": "stdout",
          "text": [
            "\n",
            "Test set: Average loss: 0.0474, Accuracy: 9860/10000 (98.60%)\n",
            "\n",
            "EPOCH: 4\n"
          ]
        },
        {
          "output_type": "stream",
          "name": "stderr",
          "text": [
            "Loss=0.6288698315620422 Batch_id=468 Accuracy=96.81: 100%|██████████| 469/469 [00:55<00:00,  8.46it/s]\n"
          ]
        },
        {
          "output_type": "stream",
          "name": "stdout",
          "text": [
            "\n",
            "Test set: Average loss: 0.0395, Accuracy: 9877/10000 (98.77%)\n",
            "\n",
            "EPOCH: 5\n"
          ]
        },
        {
          "output_type": "stream",
          "name": "stderr",
          "text": [
            "Loss=0.43778544664382935 Batch_id=468 Accuracy=97.01: 100%|██████████| 469/469 [00:54<00:00,  8.54it/s]\n"
          ]
        },
        {
          "output_type": "stream",
          "name": "stdout",
          "text": [
            "\n",
            "Test set: Average loss: 0.0478, Accuracy: 9844/10000 (98.44%)\n",
            "\n",
            "EPOCH: 6\n"
          ]
        },
        {
          "output_type": "stream",
          "name": "stderr",
          "text": [
            "Loss=0.3472343981266022 Batch_id=468 Accuracy=96.97: 100%|██████████| 469/469 [00:55<00:00,  8.43it/s]\n"
          ]
        },
        {
          "output_type": "stream",
          "name": "stdout",
          "text": [
            "\n",
            "Test set: Average loss: 0.0481, Accuracy: 9856/10000 (98.56%)\n",
            "\n",
            "EPOCH: 7\n"
          ]
        },
        {
          "output_type": "stream",
          "name": "stderr",
          "text": [
            "Loss=0.3842426836490631 Batch_id=468 Accuracy=96.97: 100%|██████████| 469/469 [00:55<00:00,  8.44it/s]\n"
          ]
        },
        {
          "output_type": "stream",
          "name": "stdout",
          "text": [
            "\n",
            "Test set: Average loss: 0.0382, Accuracy: 9878/10000 (98.78%)\n",
            "\n",
            "EPOCH: 8\n"
          ]
        },
        {
          "output_type": "stream",
          "name": "stderr",
          "text": [
            "Loss=0.3909488916397095 Batch_id=468 Accuracy=97.84: 100%|██████████| 469/469 [00:55<00:00,  8.43it/s]\n"
          ]
        },
        {
          "output_type": "stream",
          "name": "stdout",
          "text": [
            "\n",
            "Test set: Average loss: 0.0244, Accuracy: 9925/10000 (99.25%)\n",
            "\n",
            "EPOCH: 9\n"
          ]
        },
        {
          "output_type": "stream",
          "name": "stderr",
          "text": [
            "Loss=0.31512030959129333 Batch_id=468 Accuracy=98.05: 100%|██████████| 469/469 [00:55<00:00,  8.39it/s]\n"
          ]
        },
        {
          "output_type": "stream",
          "name": "stdout",
          "text": [
            "\n",
            "Test set: Average loss: 0.0232, Accuracy: 9930/10000 (99.30%)\n",
            "\n",
            "EPOCH: 10\n"
          ]
        },
        {
          "output_type": "stream",
          "name": "stderr",
          "text": [
            "Loss=0.32106906175613403 Batch_id=468 Accuracy=98.17: 100%|██████████| 469/469 [00:55<00:00,  8.39it/s]\n"
          ]
        },
        {
          "output_type": "stream",
          "name": "stdout",
          "text": [
            "\n",
            "Test set: Average loss: 0.0230, Accuracy: 9929/10000 (99.29%)\n",
            "\n",
            "EPOCH: 11\n"
          ]
        },
        {
          "output_type": "stream",
          "name": "stderr",
          "text": [
            "Loss=0.2971549332141876 Batch_id=468 Accuracy=98.12: 100%|██████████| 469/469 [00:55<00:00,  8.47it/s]\n"
          ]
        },
        {
          "output_type": "stream",
          "name": "stdout",
          "text": [
            "\n",
            "Test set: Average loss: 0.0223, Accuracy: 9934/10000 (99.34%)\n",
            "\n",
            "EPOCH: 12\n"
          ]
        },
        {
          "output_type": "stream",
          "name": "stderr",
          "text": [
            "Loss=0.2974185645580292 Batch_id=468 Accuracy=98.16: 100%|██████████| 469/469 [00:55<00:00,  8.40it/s]\n"
          ]
        },
        {
          "output_type": "stream",
          "name": "stdout",
          "text": [
            "\n",
            "Test set: Average loss: 0.0237, Accuracy: 9928/10000 (99.28%)\n",
            "\n",
            "EPOCH: 13\n"
          ]
        },
        {
          "output_type": "stream",
          "name": "stderr",
          "text": [
            "Loss=0.3405633866786957 Batch_id=468 Accuracy=98.11: 100%|██████████| 469/469 [00:55<00:00,  8.43it/s]\n"
          ]
        },
        {
          "output_type": "stream",
          "name": "stdout",
          "text": [
            "\n",
            "Test set: Average loss: 0.0247, Accuracy: 9930/10000 (99.30%)\n",
            "\n",
            "EPOCH: 14\n"
          ]
        },
        {
          "output_type": "stream",
          "name": "stderr",
          "text": [
            "Loss=0.3573586046695709 Batch_id=468 Accuracy=98.12: 100%|██████████| 469/469 [00:55<00:00,  8.44it/s]\n"
          ]
        },
        {
          "output_type": "stream",
          "name": "stdout",
          "text": [
            "\n",
            "Test set: Average loss: 0.0231, Accuracy: 9929/10000 (99.29%)\n",
            "\n",
            "Norm Type - GN\n",
            "----------------------------------------------------------------\n",
            "        Layer (type)               Output Shape         Param #\n",
            "================================================================\n",
            "            Conv2d-1           [-1, 16, 26, 26]             144\n",
            "              ReLU-2           [-1, 16, 26, 26]               0\n",
            "         GroupNorm-3           [-1, 16, 26, 26]              32\n",
            "           Dropout-4           [-1, 16, 26, 26]               0\n",
            "            Conv2d-5           [-1, 16, 24, 24]           2,304\n",
            "              ReLU-6           [-1, 16, 24, 24]               0\n",
            "         GroupNorm-7           [-1, 16, 24, 24]              32\n",
            "           Dropout-8           [-1, 16, 24, 24]               0\n",
            "            Conv2d-9           [-1, 16, 24, 24]             256\n",
            "        MaxPool2d-10           [-1, 16, 12, 12]               0\n",
            "           Conv2d-11           [-1, 16, 10, 10]           2,304\n",
            "             ReLU-12           [-1, 16, 10, 10]               0\n",
            "        GroupNorm-13           [-1, 16, 10, 10]              32\n",
            "          Dropout-14           [-1, 16, 10, 10]               0\n",
            "           Conv2d-15             [-1, 16, 8, 8]           2,304\n",
            "             ReLU-16             [-1, 16, 8, 8]               0\n",
            "        GroupNorm-17             [-1, 16, 8, 8]              32\n",
            "          Dropout-18             [-1, 16, 8, 8]               0\n",
            "           Conv2d-19             [-1, 20, 6, 6]           2,880\n",
            "             ReLU-20             [-1, 20, 6, 6]               0\n",
            "        GroupNorm-21             [-1, 20, 6, 6]              40\n",
            "          Dropout-22             [-1, 20, 6, 6]               0\n",
            "        AvgPool2d-23             [-1, 20, 1, 1]               0\n",
            "           Conv2d-24             [-1, 16, 1, 1]             320\n",
            "           Conv2d-25             [-1, 10, 1, 1]             160\n",
            "================================================================\n",
            "Total params: 10,840\n",
            "Trainable params: 10,840\n",
            "Non-trainable params: 0\n",
            "----------------------------------------------------------------\n",
            "Input size (MB): 0.00\n",
            "Forward/backward pass size (MB): 0.80\n",
            "Params size (MB): 0.04\n",
            "Estimated Total Size (MB): 0.85\n",
            "----------------------------------------------------------------\n",
            "EPOCH: 0\n"
          ]
        },
        {
          "output_type": "stream",
          "name": "stderr",
          "text": [
            "Loss=0.23207469284534454 Batch_id=468 Accuracy=68.56: 100%|██████████| 469/469 [00:54<00:00,  8.67it/s]\n"
          ]
        },
        {
          "output_type": "stream",
          "name": "stdout",
          "text": [
            "\n",
            "Test set: Average loss: 0.1205, Accuracy: 9692/10000 (96.92%)\n",
            "\n",
            "EPOCH: 1\n"
          ]
        },
        {
          "output_type": "stream",
          "name": "stderr",
          "text": [
            "Loss=0.25186941027641296 Batch_id=468 Accuracy=95.23: 100%|██████████| 469/469 [00:53<00:00,  8.75it/s]\n"
          ]
        },
        {
          "output_type": "stream",
          "name": "stdout",
          "text": [
            "\n",
            "Test set: Average loss: 0.0488, Accuracy: 9868/10000 (98.68%)\n",
            "\n",
            "EPOCH: 2\n"
          ]
        },
        {
          "output_type": "stream",
          "name": "stderr",
          "text": [
            "Loss=0.1282496601343155 Batch_id=468 Accuracy=96.52: 100%|██████████| 469/469 [00:53<00:00,  8.73it/s]\n"
          ]
        },
        {
          "output_type": "stream",
          "name": "stdout",
          "text": [
            "\n",
            "Test set: Average loss: 0.0515, Accuracy: 9857/10000 (98.57%)\n",
            "\n",
            "EPOCH: 3\n"
          ]
        },
        {
          "output_type": "stream",
          "name": "stderr",
          "text": [
            "Loss=0.060088202357292175 Batch_id=468 Accuracy=97.30: 100%|██████████| 469/469 [00:53<00:00,  8.71it/s]\n"
          ]
        },
        {
          "output_type": "stream",
          "name": "stdout",
          "text": [
            "\n",
            "Test set: Average loss: 0.0334, Accuracy: 9891/10000 (98.91%)\n",
            "\n",
            "EPOCH: 4\n"
          ]
        },
        {
          "output_type": "stream",
          "name": "stderr",
          "text": [
            "Loss=0.018171755596995354 Batch_id=468 Accuracy=97.56: 100%|██████████| 469/469 [00:54<00:00,  8.66it/s]\n"
          ]
        },
        {
          "output_type": "stream",
          "name": "stdout",
          "text": [
            "\n",
            "Test set: Average loss: 0.0319, Accuracy: 9902/10000 (99.02%)\n",
            "\n",
            "EPOCH: 5\n"
          ]
        },
        {
          "output_type": "stream",
          "name": "stderr",
          "text": [
            "Loss=0.04852965474128723 Batch_id=468 Accuracy=97.69: 100%|██████████| 469/469 [00:53<00:00,  8.70it/s]\n"
          ]
        },
        {
          "output_type": "stream",
          "name": "stdout",
          "text": [
            "\n",
            "Test set: Average loss: 0.0348, Accuracy: 9892/10000 (98.92%)\n",
            "\n",
            "EPOCH: 6\n"
          ]
        },
        {
          "output_type": "stream",
          "name": "stderr",
          "text": [
            "Loss=0.05759020522236824 Batch_id=468 Accuracy=97.88: 100%|██████████| 469/469 [00:54<00:00,  8.67it/s]\n"
          ]
        },
        {
          "output_type": "stream",
          "name": "stdout",
          "text": [
            "\n",
            "Test set: Average loss: 0.0291, Accuracy: 9911/10000 (99.11%)\n",
            "\n",
            "EPOCH: 7\n"
          ]
        },
        {
          "output_type": "stream",
          "name": "stderr",
          "text": [
            "Loss=0.02940562181174755 Batch_id=468 Accuracy=97.91: 100%|██████████| 469/469 [00:53<00:00,  8.69it/s]\n"
          ]
        },
        {
          "output_type": "stream",
          "name": "stdout",
          "text": [
            "\n",
            "Test set: Average loss: 0.0219, Accuracy: 9929/10000 (99.29%)\n",
            "\n",
            "EPOCH: 8\n"
          ]
        },
        {
          "output_type": "stream",
          "name": "stderr",
          "text": [
            "Loss=0.04908197000622749 Batch_id=468 Accuracy=98.33: 100%|██████████| 469/469 [00:54<00:00,  8.68it/s]\n"
          ]
        },
        {
          "output_type": "stream",
          "name": "stdout",
          "text": [
            "\n",
            "Test set: Average loss: 0.0201, Accuracy: 9936/10000 (99.36%)\n",
            "\n",
            "EPOCH: 9\n"
          ]
        },
        {
          "output_type": "stream",
          "name": "stderr",
          "text": [
            "Loss=0.07408365607261658 Batch_id=468 Accuracy=98.41: 100%|██████████| 469/469 [00:54<00:00,  8.66it/s]\n"
          ]
        },
        {
          "output_type": "stream",
          "name": "stdout",
          "text": [
            "\n",
            "Test set: Average loss: 0.0203, Accuracy: 9933/10000 (99.33%)\n",
            "\n",
            "EPOCH: 10\n"
          ]
        },
        {
          "output_type": "stream",
          "name": "stderr",
          "text": [
            "Loss=0.08617281913757324 Batch_id=468 Accuracy=98.51: 100%|██████████| 469/469 [00:54<00:00,  8.63it/s]\n"
          ]
        },
        {
          "output_type": "stream",
          "name": "stdout",
          "text": [
            "\n",
            "Test set: Average loss: 0.0204, Accuracy: 9941/10000 (99.41%)\n",
            "\n",
            "EPOCH: 11\n"
          ]
        },
        {
          "output_type": "stream",
          "name": "stderr",
          "text": [
            "Loss=0.022699706256389618 Batch_id=468 Accuracy=98.51: 100%|██████████| 469/469 [00:54<00:00,  8.64it/s]\n"
          ]
        },
        {
          "output_type": "stream",
          "name": "stdout",
          "text": [
            "\n",
            "Test set: Average loss: 0.0202, Accuracy: 9943/10000 (99.43%)\n",
            "\n",
            "EPOCH: 12\n"
          ]
        },
        {
          "output_type": "stream",
          "name": "stderr",
          "text": [
            "Loss=0.047419238835573196 Batch_id=468 Accuracy=98.45: 100%|██████████| 469/469 [00:53<00:00,  8.70it/s]\n"
          ]
        },
        {
          "output_type": "stream",
          "name": "stdout",
          "text": [
            "\n",
            "Test set: Average loss: 0.0198, Accuracy: 9943/10000 (99.43%)\n",
            "\n",
            "EPOCH: 13\n"
          ]
        },
        {
          "output_type": "stream",
          "name": "stderr",
          "text": [
            "Loss=0.014406214468181133 Batch_id=468 Accuracy=98.47: 100%|██████████| 469/469 [00:53<00:00,  8.75it/s]\n"
          ]
        },
        {
          "output_type": "stream",
          "name": "stdout",
          "text": [
            "\n",
            "Test set: Average loss: 0.0202, Accuracy: 9938/10000 (99.38%)\n",
            "\n",
            "EPOCH: 14\n"
          ]
        },
        {
          "output_type": "stream",
          "name": "stderr",
          "text": [
            "Loss=0.09633326530456543 Batch_id=468 Accuracy=98.56: 100%|██████████| 469/469 [00:53<00:00,  8.69it/s]\n"
          ]
        },
        {
          "output_type": "stream",
          "name": "stdout",
          "text": [
            "\n",
            "Test set: Average loss: 0.0203, Accuracy: 9937/10000 (99.37%)\n",
            "\n",
            "Norm Type - LN\n",
            "----------------------------------------------------------------\n",
            "        Layer (type)               Output Shape         Param #\n",
            "================================================================\n",
            "            Conv2d-1           [-1, 16, 26, 26]             144\n",
            "              ReLU-2           [-1, 16, 26, 26]               0\n",
            "         LayerNorm-3           [-1, 16, 26, 26]          21,632\n",
            "           Dropout-4           [-1, 16, 26, 26]               0\n",
            "            Conv2d-5           [-1, 16, 24, 24]           2,304\n",
            "              ReLU-6           [-1, 16, 24, 24]               0\n",
            "         LayerNorm-7           [-1, 16, 24, 24]          18,432\n",
            "           Dropout-8           [-1, 16, 24, 24]               0\n",
            "            Conv2d-9           [-1, 16, 24, 24]             256\n",
            "        MaxPool2d-10           [-1, 16, 12, 12]               0\n",
            "           Conv2d-11           [-1, 16, 10, 10]           2,304\n",
            "             ReLU-12           [-1, 16, 10, 10]               0\n",
            "        LayerNorm-13           [-1, 16, 10, 10]           3,200\n",
            "          Dropout-14           [-1, 16, 10, 10]               0\n",
            "           Conv2d-15             [-1, 16, 8, 8]           2,304\n",
            "             ReLU-16             [-1, 16, 8, 8]               0\n",
            "        LayerNorm-17             [-1, 16, 8, 8]           2,048\n",
            "          Dropout-18             [-1, 16, 8, 8]               0\n",
            "           Conv2d-19             [-1, 20, 6, 6]           2,880\n",
            "             ReLU-20             [-1, 20, 6, 6]               0\n",
            "        LayerNorm-21             [-1, 20, 6, 6]           1,440\n",
            "          Dropout-22             [-1, 20, 6, 6]               0\n",
            "        AvgPool2d-23             [-1, 20, 1, 1]               0\n",
            "           Conv2d-24             [-1, 16, 1, 1]             320\n",
            "           Conv2d-25             [-1, 10, 1, 1]             160\n",
            "================================================================\n",
            "Total params: 57,424\n",
            "Trainable params: 57,424\n",
            "Non-trainable params: 0\n",
            "----------------------------------------------------------------\n",
            "Input size (MB): 0.00\n",
            "Forward/backward pass size (MB): 0.80\n",
            "Params size (MB): 0.22\n",
            "Estimated Total Size (MB): 1.02\n",
            "----------------------------------------------------------------\n",
            "EPOCH: 0\n"
          ]
        },
        {
          "output_type": "stream",
          "name": "stderr",
          "text": [
            "Loss=0.17218025028705597 Batch_id=468 Accuracy=74.73: 100%|██████████| 469/469 [00:53<00:00,  8.70it/s]\n"
          ]
        },
        {
          "output_type": "stream",
          "name": "stdout",
          "text": [
            "\n",
            "Test set: Average loss: 0.0998, Accuracy: 9759/10000 (97.59%)\n",
            "\n",
            "EPOCH: 1\n"
          ]
        },
        {
          "output_type": "stream",
          "name": "stderr",
          "text": [
            "Loss=0.07048073410987854 Batch_id=468 Accuracy=95.66: 100%|██████████| 469/469 [00:53<00:00,  8.81it/s]\n"
          ]
        },
        {
          "output_type": "stream",
          "name": "stdout",
          "text": [
            "\n",
            "Test set: Average loss: 0.0485, Accuracy: 9874/10000 (98.74%)\n",
            "\n",
            "EPOCH: 2\n"
          ]
        },
        {
          "output_type": "stream",
          "name": "stderr",
          "text": [
            "Loss=0.06669103354215622 Batch_id=468 Accuracy=96.97: 100%|██████████| 469/469 [00:53<00:00,  8.73it/s]\n"
          ]
        },
        {
          "output_type": "stream",
          "name": "stdout",
          "text": [
            "\n",
            "Test set: Average loss: 0.0453, Accuracy: 9860/10000 (98.60%)\n",
            "\n",
            "EPOCH: 3\n"
          ]
        },
        {
          "output_type": "stream",
          "name": "stderr",
          "text": [
            "Loss=0.035165611654520035 Batch_id=468 Accuracy=97.33: 100%|██████████| 469/469 [00:53<00:00,  8.77it/s]\n"
          ]
        },
        {
          "output_type": "stream",
          "name": "stdout",
          "text": [
            "\n",
            "Test set: Average loss: 0.0281, Accuracy: 9920/10000 (99.20%)\n",
            "\n",
            "EPOCH: 4\n"
          ]
        },
        {
          "output_type": "stream",
          "name": "stderr",
          "text": [
            "Loss=0.06513936072587967 Batch_id=468 Accuracy=97.69: 100%|██████████| 469/469 [00:54<00:00,  8.64it/s]\n"
          ]
        },
        {
          "output_type": "stream",
          "name": "stdout",
          "text": [
            "\n",
            "Test set: Average loss: 0.0266, Accuracy: 9915/10000 (99.15%)\n",
            "\n",
            "EPOCH: 5\n"
          ]
        },
        {
          "output_type": "stream",
          "name": "stderr",
          "text": [
            "Loss=0.0571446567773819 Batch_id=468 Accuracy=97.88: 100%|██████████| 469/469 [00:53<00:00,  8.76it/s]\n"
          ]
        },
        {
          "output_type": "stream",
          "name": "stdout",
          "text": [
            "\n",
            "Test set: Average loss: 0.0252, Accuracy: 9923/10000 (99.23%)\n",
            "\n",
            "EPOCH: 6\n"
          ]
        },
        {
          "output_type": "stream",
          "name": "stderr",
          "text": [
            "Loss=0.03645983710885048 Batch_id=468 Accuracy=98.05: 100%|██████████| 469/469 [00:53<00:00,  8.75it/s]\n"
          ]
        },
        {
          "output_type": "stream",
          "name": "stdout",
          "text": [
            "\n",
            "Test set: Average loss: 0.0229, Accuracy: 9931/10000 (99.31%)\n",
            "\n",
            "EPOCH: 7\n"
          ]
        },
        {
          "output_type": "stream",
          "name": "stderr",
          "text": [
            "Loss=0.04712933674454689 Batch_id=468 Accuracy=98.11: 100%|██████████| 469/469 [00:53<00:00,  8.75it/s]\n"
          ]
        },
        {
          "output_type": "stream",
          "name": "stdout",
          "text": [
            "\n",
            "Test set: Average loss: 0.0223, Accuracy: 9927/10000 (99.27%)\n",
            "\n",
            "EPOCH: 8\n"
          ]
        },
        {
          "output_type": "stream",
          "name": "stderr",
          "text": [
            "Loss=0.006859505083411932 Batch_id=468 Accuracy=98.51: 100%|██████████| 469/469 [00:53<00:00,  8.74it/s]\n"
          ]
        },
        {
          "output_type": "stream",
          "name": "stdout",
          "text": [
            "\n",
            "Test set: Average loss: 0.0183, Accuracy: 9944/10000 (99.44%)\n",
            "\n",
            "EPOCH: 9\n"
          ]
        },
        {
          "output_type": "stream",
          "name": "stderr",
          "text": [
            "Loss=0.016629405319690704 Batch_id=468 Accuracy=98.52: 100%|██████████| 469/469 [00:53<00:00,  8.74it/s]\n"
          ]
        },
        {
          "output_type": "stream",
          "name": "stdout",
          "text": [
            "\n",
            "Test set: Average loss: 0.0183, Accuracy: 9946/10000 (99.46%)\n",
            "\n",
            "EPOCH: 10\n"
          ]
        },
        {
          "output_type": "stream",
          "name": "stderr",
          "text": [
            "Loss=0.11514415591955185 Batch_id=468 Accuracy=98.59: 100%|██████████| 469/469 [00:53<00:00,  8.75it/s]\n"
          ]
        },
        {
          "output_type": "stream",
          "name": "stdout",
          "text": [
            "\n",
            "Test set: Average loss: 0.0182, Accuracy: 9948/10000 (99.48%)\n",
            "\n",
            "EPOCH: 11\n"
          ]
        },
        {
          "output_type": "stream",
          "name": "stderr",
          "text": [
            "Loss=0.06914839893579483 Batch_id=468 Accuracy=98.60: 100%|██████████| 469/469 [00:53<00:00,  8.70it/s]\n"
          ]
        },
        {
          "output_type": "stream",
          "name": "stdout",
          "text": [
            "\n",
            "Test set: Average loss: 0.0188, Accuracy: 9948/10000 (99.48%)\n",
            "\n",
            "EPOCH: 12\n"
          ]
        },
        {
          "output_type": "stream",
          "name": "stderr",
          "text": [
            "Loss=0.1593674123287201 Batch_id=468 Accuracy=98.62: 100%|██████████| 469/469 [00:53<00:00,  8.73it/s]\n"
          ]
        },
        {
          "output_type": "stream",
          "name": "stdout",
          "text": [
            "\n",
            "Test set: Average loss: 0.0175, Accuracy: 9953/10000 (99.53%)\n",
            "\n",
            "EPOCH: 13\n"
          ]
        },
        {
          "output_type": "stream",
          "name": "stderr",
          "text": [
            "Loss=0.026353204622864723 Batch_id=468 Accuracy=98.61: 100%|██████████| 469/469 [00:53<00:00,  8.69it/s]\n"
          ]
        },
        {
          "output_type": "stream",
          "name": "stdout",
          "text": [
            "\n",
            "Test set: Average loss: 0.0175, Accuracy: 9947/10000 (99.47%)\n",
            "\n",
            "EPOCH: 14\n"
          ]
        },
        {
          "output_type": "stream",
          "name": "stderr",
          "text": [
            "Loss=0.08926573395729065 Batch_id=468 Accuracy=98.61: 100%|██████████| 469/469 [00:54<00:00,  8.63it/s]\n"
          ]
        },
        {
          "output_type": "stream",
          "name": "stdout",
          "text": [
            "\n",
            "Test set: Average loss: 0.0172, Accuracy: 9950/10000 (99.50%)\n",
            "\n"
          ]
        }
      ]
    },
    {
      "cell_type": "code",
      "metadata": {
        "colab": {
          "base_uri": "https://localhost:8080/",
          "height": 460
        },
        "id": "oGm7MRBdTTGM",
        "outputId": "544ac83c-3461-4e39-d603-834d2ca297e4"
      },
      "source": [
        "\n",
        "\n",
        "plt.rcParams['figure.figsize'] = [15, 6]\n",
        "\n",
        "for norm in norm_options:\n",
        "  train_losses = metrics[norm][0]\n",
        "  test_losses = metrics[norm][1]\n",
        "  train_acc = metrics[norm][2]\n",
        "  test_acc = metrics[norm][3]\n",
        "\n",
        "  plt.subplot(2,2, 1)\n",
        "\n",
        "  plt.plot(test_acc)\n",
        "  plt.legend(norm_options)\n",
        "  plt.title(\"Test Accuracy\")\n",
        "\n",
        "  plt.xlabel('Epoch')\n",
        "  plt.ylabel('Accuracy')\n",
        "\n",
        "  plt.subplot(1,2,2)\n",
        "  plt.plot(test_losses)\n",
        "  plt.legend(norm_options)\n",
        "  plt.title('Test Loss')\n",
        "  plt.xlabel('Epoch')\n",
        "  plt.ylabel('Loss')"
      ],
      "execution_count": 8,
      "outputs": [
        {
          "output_type": "stream",
          "name": "stderr",
          "text": [
            "/usr/local/lib/python3.7/dist-packages/ipykernel_launcher.py:11: MatplotlibDeprecationWarning: Adding an axes using the same arguments as a previous axes currently reuses the earlier instance.  In a future version, a new instance will always be created and returned.  Meanwhile, this warning can be suppressed, and the future behavior ensured, by passing a unique label to each axes instance.\n",
            "  # This is added back by InteractiveShellApp.init_path()\n",
            "/usr/local/lib/python3.7/dist-packages/ipykernel_launcher.py:20: MatplotlibDeprecationWarning: Adding an axes using the same arguments as a previous axes currently reuses the earlier instance.  In a future version, a new instance will always be created and returned.  Meanwhile, this warning can be suppressed, and the future behavior ensured, by passing a unique label to each axes instance.\n"
          ]
        },
        {
          "output_type": "display_data",
          "data": {
            "image/png": "[encoded data removed]",
            "text/plain": [
              "<Figure size 1080x432 with 2 Axes>"
            ]
          },
          "metadata": {
            "needs_background": "light"
          }
        }
      ]
    },
    {
      "cell_type": "code",
      "metadata": {
        "colab": {
          "base_uri": "https://localhost:8080/",
          "height": 1000
        },
        "id": "mwdu53h4Ti9D",
        "outputId": "5e768323-b4ee-4ecd-dc78-99de18c58730"
      },
      "source": [
        "classes = ('0','1','2','3','4','5','6','7','8','9')\n",
        "\n",
        "for norm in norm_options:\n",
        "\n",
        "  print('-'*15,end=' ')\n",
        "  print(norm,end=' ')\n",
        "  print('-'*15,end = ' ')\n",
        "\n",
        "  model = Net(norm).to(device)\n",
        "\n",
        "  model.eval()\n",
        "\n",
        "  figure = plt.figure(figsize=(20, 20))\n",
        "  num_of_images = 20\n",
        "  index = 1\n",
        "\n",
        "  misclass_img_list = []\n",
        "  untrans_img=[]\n",
        "\n",
        "  with torch.no_grad():\n",
        "\n",
        "      for data, target in test_loader:\n",
        "          data, target = data.to(\n",
        "              device), target.to(device)\n",
        "          output = model(data)\n",
        "          pred = output.argmax(dim=1, keepdim=True)\n",
        "          act = target.view_as(pred)\n",
        "          # since most of the bool vec is true (good problem to have) and switch (flip) the true to false and vice versa\n",
        "          bool_vec = ~pred.eq(act)\n",
        "\n",
        "          # now extract the index number from the tensor which has 'true'\n",
        "          idx = list(\n",
        "              np.where(bool_vec.cpu().numpy())[0])\n",
        "\n",
        "          if idx:  # if not a blank list\n",
        "              idx_list = idx\n",
        "              # print(data[idx_list[0]].shape)\n",
        "              if index < num_of_images+1:\n",
        "                  plt.subplot(4, 5, index)\n",
        "                  plt.axis('off')\n",
        "                  titl = 'act/pred : ' + \\\n",
        "                      str(classes[target[idx[0]].cpu().item(\n",
        "                      )]) + '/' + str(classes[pred[idx[0]].cpu().item()])\n",
        "                  # prints the 1st index of each batch.\n",
        "              \n",
        "                  img = data[idx[0]].cpu()\n",
        "                  untrans_img.append(img.squeeze_(0))\n",
        "                  image = plt.imshow(img)\n",
        "                  misclass_img_list.append(image)\n",
        "                                    \n",
        "\n",
        "\n",
        "                  plt.title(titl)\n",
        "                  index += 1"
      ],
      "execution_count": 9,
      "outputs": [
        {
          "output_type": "stream",
          "name": "stdout",
          "text": [
            "--------------- BN --------------- "
          ]
        },
        {
          "output_type": "stream",
          "name": "stderr",
          "text": [
            "/usr/local/lib/python3.7/dist-packages/torch/utils/data/dataloader.py:481: UserWarning: This DataLoader will create 4 worker processes in total. Our suggested max number of worker in current system is 2, which is smaller than what this DataLoader is going to create. Please be aware that excessive worker creation might get DataLoader running slow or even freeze, lower the worker number to avoid potential slowness/freeze if necessary.\n",
            "  cpuset_checked))\n"
          ]
        },
        {
          "output_type": "stream",
          "name": "stdout",
          "text": [
            "--------------- GN --------------- --------------- LN --------------- "
          ]
        },
        {
          "output_type": "display_data",
          "data": {
            "image/png": "[encoded data removed]",
            "text/plain": [
              "<Figure size 1440x1440 with 20 Axes>"
            ]
          },
          "metadata": {
            "needs_background": "light"
          }
        },
        {
          "output_type": "display_data",
          "data": {
            "image/png": "[encoded data removed]",
            "text/plain": [
              "<Figure size 1440x1440 with 20 Axes>"
            ]
          },
          "metadata": {
            "needs_background": "light"
          }
        },
        {
          "output_type": "display_data",
          "data": {
            "image/png": "[encoded data removed]",
            "text/plain": [
              "<Figure size 1440x1440 with 20 Axes>"
            ]
          },
          "metadata": {
            "needs_background": "light"
          }
        }
      ]
    },
    {
      "cell_type": "code",
      "metadata": {
        "id": "1NM1F_pGlZFU"
      },
      "source": [
        ""
      ],
      "execution_count": null,
      "outputs": []
    }
  ]
}