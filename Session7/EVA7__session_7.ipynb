{
  "nbformat": 4,
  "nbformat_minor": 0,
  "metadata": {
    "colab": {
      "name": "EVA7__session_7.ipynb",
      "provenance": []
    },
    "kernelspec": {
      "name": "python3",
      "display_name": "Python 3"
    },
    "language_info": {
      "name": "python"
    },
    "widgets": {
      "application/vnd.jupyter.widget-state+json": {
        "5f7ce799a68245f9b594a3fd70d163b3": {
          "model_module": "@jupyter-widgets/controls",
          "model_name": "HBoxModel",
          "model_module_version": "1.5.0",
          "state": {
            "_view_name": "HBoxView",
            "_dom_classes": [],
            "_model_name": "HBoxModel",
            "_view_module": "@jupyter-widgets/controls",
            "_model_module_version": "1.5.0",
            "_view_count": null,
            "_view_module_version": "1.5.0",
            "box_style": "",
            "layout": "IPY_MODEL_af4907fcad60460a9c42097a0dc44f44",
            "_model_module": "@jupyter-widgets/controls",
            "children": [
              "IPY_MODEL_88f155db1a03405f8879182131da8f0f",
              "IPY_MODEL_4175360e3eaf4b76abcce2c910a42231",
              "IPY_MODEL_d743c2bdccbb408a8f6c49093ff2c733"
            ]
          }
        },
        "af4907fcad60460a9c42097a0dc44f44": {
          "model_module": "@jupyter-widgets/base",
          "model_name": "LayoutModel",
          "model_module_version": "1.2.0",
          "state": {
            "_view_name": "LayoutView",
            "grid_template_rows": null,
            "right": null,
            "justify_content": null,
            "_view_module": "@jupyter-widgets/base",
            "overflow": null,
            "_model_module_version": "1.2.0",
            "_view_count": null,
            "flex_flow": null,
            "width": null,
            "min_width": null,
            "border": null,
            "align_items": null,
            "bottom": null,
            "_model_module": "@jupyter-widgets/base",
            "top": null,
            "grid_column": null,
            "overflow_y": null,
            "overflow_x": null,
            "grid_auto_flow": null,
            "grid_area": null,
            "grid_template_columns": null,
            "flex": null,
            "_model_name": "LayoutModel",
            "justify_items": null,
            "grid_row": null,
            "max_height": null,
            "align_content": null,
            "visibility": null,
            "align_self": null,
            "height": null,
            "min_height": null,
            "padding": null,
            "grid_auto_rows": null,
            "grid_gap": null,
            "max_width": null,
            "order": null,
            "_view_module_version": "1.2.0",
            "grid_template_areas": null,
            "object_position": null,
            "object_fit": null,
            "grid_auto_columns": null,
            "margin": null,
            "display": null,
            "left": null
          }
        },
        "88f155db1a03405f8879182131da8f0f": {
          "model_module": "@jupyter-widgets/controls",
          "model_name": "HTMLModel",
          "model_module_version": "1.5.0",
          "state": {
            "_view_name": "HTMLView",
            "style": "IPY_MODEL_d70167ad8046481d86c51c174a85e060",
            "_dom_classes": [],
            "description": "",
            "_model_name": "HTMLModel",
            "placeholder": "​",
            "_view_module": "@jupyter-widgets/controls",
            "_model_module_version": "1.5.0",
            "value": "",
            "_view_count": null,
            "_view_module_version": "1.5.0",
            "description_tooltip": null,
            "_model_module": "@jupyter-widgets/controls",
            "layout": "IPY_MODEL_3de0d3edb5cf41b684225d6fc7b34a9b"
          }
        },
        "4175360e3eaf4b76abcce2c910a42231": {
          "model_module": "@jupyter-widgets/controls",
          "model_name": "FloatProgressModel",
          "model_module_version": "1.5.0",
          "state": {
            "_view_name": "ProgressView",
            "style": "IPY_MODEL_d1f4788e4a9e4b0997c1fb2cd178154f",
            "_dom_classes": [],
            "description": "",
            "_model_name": "FloatProgressModel",
            "bar_style": "success",
            "max": 170498071,
            "_view_module": "@jupyter-widgets/controls",
            "_model_module_version": "1.5.0",
            "value": 170498071,
            "_view_count": null,
            "_view_module_version": "1.5.0",
            "orientation": "horizontal",
            "min": 0,
            "description_tooltip": null,
            "_model_module": "@jupyter-widgets/controls",
            "layout": "IPY_MODEL_42628adfcc1d433bac24642e37ad0c85"
          }
        },
        "d743c2bdccbb408a8f6c49093ff2c733": {
          "model_module": "@jupyter-widgets/controls",
          "model_name": "HTMLModel",
          "model_module_version": "1.5.0",
          "state": {
            "_view_name": "HTMLView",
            "style": "IPY_MODEL_9d00d16933fb474b948b9a05e5ba3094",
            "_dom_classes": [],
            "description": "",
            "_model_name": "HTMLModel",
            "placeholder": "​",
            "_view_module": "@jupyter-widgets/controls",
            "_model_module_version": "1.5.0",
            "value": " 170499072/? [00:02&lt;00:00, 70526610.76it/s]",
            "_view_count": null,
            "_view_module_version": "1.5.0",
            "description_tooltip": null,
            "_model_module": "@jupyter-widgets/controls",
            "layout": "IPY_MODEL_32998d4e159c46b4abcb8ce94d591084"
          }
        },
        "d70167ad8046481d86c51c174a85e060": {
          "model_module": "@jupyter-widgets/controls",
          "model_name": "DescriptionStyleModel",
          "model_module_version": "1.5.0",
          "state": {
            "_view_name": "StyleView",
            "_model_name": "DescriptionStyleModel",
            "description_width": "",
            "_view_module": "@jupyter-widgets/base",
            "_model_module_version": "1.5.0",
            "_view_count": null,
            "_view_module_version": "1.2.0",
            "_model_module": "@jupyter-widgets/controls"
          }
        },
        "3de0d3edb5cf41b684225d6fc7b34a9b": {
          "model_module": "@jupyter-widgets/base",
          "model_name": "LayoutModel",
          "model_module_version": "1.2.0",
          "state": {
            "_view_name": "LayoutView",
            "grid_template_rows": null,
            "right": null,
            "justify_content": null,
            "_view_module": "@jupyter-widgets/base",
            "overflow": null,
            "_model_module_version": "1.2.0",
            "_view_count": null,
            "flex_flow": null,
            "width": null,
            "min_width": null,
            "border": null,
            "align_items": null,
            "bottom": null,
            "_model_module": "@jupyter-widgets/base",
            "top": null,
            "grid_column": null,
            "overflow_y": null,
            "overflow_x": null,
            "grid_auto_flow": null,
            "grid_area": null,
            "grid_template_columns": null,
            "flex": null,
            "_model_name": "LayoutModel",
            "justify_items": null,
            "grid_row": null,
            "max_height": null,
            "align_content": null,
            "visibility": null,
            "align_self": null,
            "height": null,
            "min_height": null,
            "padding": null,
            "grid_auto_rows": null,
            "grid_gap": null,
            "max_width": null,
            "order": null,
            "_view_module_version": "1.2.0",
            "grid_template_areas": null,
            "object_position": null,
            "object_fit": null,
            "grid_auto_columns": null,
            "margin": null,
            "display": null,
            "left": null
          }
        },
        "d1f4788e4a9e4b0997c1fb2cd178154f": {
          "model_module": "@jupyter-widgets/controls",
          "model_name": "ProgressStyleModel",
          "model_module_version": "1.5.0",
          "state": {
            "_view_name": "StyleView",
            "_model_name": "ProgressStyleModel",
            "description_width": "",
            "_view_module": "@jupyter-widgets/base",
            "_model_module_version": "1.5.0",
            "_view_count": null,
            "_view_module_version": "1.2.0",
            "bar_color": null,
            "_model_module": "@jupyter-widgets/controls"
          }
        },
        "42628adfcc1d433bac24642e37ad0c85": {
          "model_module": "@jupyter-widgets/base",
          "model_name": "LayoutModel",
          "model_module_version": "1.2.0",
          "state": {
            "_view_name": "LayoutView",
            "grid_template_rows": null,
            "right": null,
            "justify_content": null,
            "_view_module": "@jupyter-widgets/base",
            "overflow": null,
            "_model_module_version": "1.2.0",
            "_view_count": null,
            "flex_flow": null,
            "width": null,
            "min_width": null,
            "border": null,
            "align_items": null,
            "bottom": null,
            "_model_module": "@jupyter-widgets/base",
            "top": null,
            "grid_column": null,
            "overflow_y": null,
            "overflow_x": null,
            "grid_auto_flow": null,
            "grid_area": null,
            "grid_template_columns": null,
            "flex": null,
            "_model_name": "LayoutModel",
            "justify_items": null,
            "grid_row": null,
            "max_height": null,
            "align_content": null,
            "visibility": null,
            "align_self": null,
            "height": null,
            "min_height": null,
            "padding": null,
            "grid_auto_rows": null,
            "grid_gap": null,
            "max_width": null,
            "order": null,
            "_view_module_version": "1.2.0",
            "grid_template_areas": null,
            "object_position": null,
            "object_fit": null,
            "grid_auto_columns": null,
            "margin": null,
            "display": null,
            "left": null
          }
        },
        "9d00d16933fb474b948b9a05e5ba3094": {
          "model_module": "@jupyter-widgets/controls",
          "model_name": "DescriptionStyleModel",
          "model_module_version": "1.5.0",
          "state": {
            "_view_name": "StyleView",
            "_model_name": "DescriptionStyleModel",
            "description_width": "",
            "_view_module": "@jupyter-widgets/base",
            "_model_module_version": "1.5.0",
            "_view_count": null,
            "_view_module_version": "1.2.0",
            "_model_module": "@jupyter-widgets/controls"
          }
        },
        "32998d4e159c46b4abcb8ce94d591084": {
          "model_module": "@jupyter-widgets/base",
          "model_name": "LayoutModel",
          "model_module_version": "1.2.0",
          "state": {
            "_view_name": "LayoutView",
            "grid_template_rows": null,
            "right": null,
            "justify_content": null,
            "_view_module": "@jupyter-widgets/base",
            "overflow": null,
            "_model_module_version": "1.2.0",
            "_view_count": null,
            "flex_flow": null,
            "width": null,
            "min_width": null,
            "border": null,
            "align_items": null,
            "bottom": null,
            "_model_module": "@jupyter-widgets/base",
            "top": null,
            "grid_column": null,
            "overflow_y": null,
            "overflow_x": null,
            "grid_auto_flow": null,
            "grid_area": null,
            "grid_template_columns": null,
            "flex": null,
            "_model_name": "LayoutModel",
            "justify_items": null,
            "grid_row": null,
            "max_height": null,
            "align_content": null,
            "visibility": null,
            "align_self": null,
            "height": null,
            "min_height": null,
            "padding": null,
            "grid_auto_rows": null,
            "grid_gap": null,
            "max_width": null,
            "order": null,
            "_view_module_version": "1.2.0",
            "grid_template_areas": null,
            "object_position": null,
            "object_fit": null,
            "grid_auto_columns": null,
            "margin": null,
            "display": null,
            "left": null
          }
        }
      }
    }
  },
  "cells": [
    {
      "cell_type": "code",
      "metadata": {
        "colab": {
          "base_uri": "https://localhost:8080/"
        },
        "id": "ClB7udYG12Mq",
        "outputId": "e75fb458-4daf-4e31-c75f-37db91472ada"
      },
      "source": [
        "! pip install -U git+https://github.com/albu/albumentations --no-cache-dir\n",
        "! pip install torchsummary"
      ],
      "execution_count": 1,
      "outputs": [
        {
          "output_type": "stream",
          "name": "stdout",
          "text": [
            "Collecting git+https://github.com/albu/albumentations\n",
            "  Cloning https://github.com/albu/albumentations to /tmp/pip-req-build-w6qznnr1\n",
            "  Running command git clone -q https://github.com/albu/albumentations /tmp/pip-req-build-w6qznnr1\n",
            "Requirement already satisfied: numpy>=1.11.1 in /usr/local/lib/python3.7/dist-packages (from albumentations==1.1.0) (1.19.5)\n",
            "Requirement already satisfied: scipy in /usr/local/lib/python3.7/dist-packages (from albumentations==1.1.0) (1.4.1)\n",
            "Requirement already satisfied: scikit-image>=0.16.1 in /usr/local/lib/python3.7/dist-packages (from albumentations==1.1.0) (0.16.2)\n",
            "Requirement already satisfied: PyYAML in /usr/local/lib/python3.7/dist-packages (from albumentations==1.1.0) (3.13)\n",
            "Collecting qudida>=0.0.4\n",
            "  Downloading qudida-0.0.4-py3-none-any.whl (3.5 kB)\n",
            "Requirement already satisfied: opencv-python>=4.1.1 in /usr/local/lib/python3.7/dist-packages (from albumentations==1.1.0) (4.1.2.30)\n",
            "Requirement already satisfied: scikit-learn>=0.19.1 in /usr/local/lib/python3.7/dist-packages (from qudida>=0.0.4->albumentations==1.1.0) (0.22.2.post1)\n",
            "Collecting opencv-python-headless>=4.0.1\n",
            "  Downloading opencv_python_headless-4.5.4.58-cp37-cp37m-manylinux2014_x86_64.whl (47.6 MB)\n",
            "\u001b[K     |████████████████████████████████| 47.6 MB 1.3 MB/s \n",
            "\u001b[?25hRequirement already satisfied: typing-extensions in /usr/local/lib/python3.7/dist-packages (from qudida>=0.0.4->albumentations==1.1.0) (3.10.0.2)\n",
            "Requirement already satisfied: matplotlib!=3.0.0,>=2.0.0 in /usr/local/lib/python3.7/dist-packages (from scikit-image>=0.16.1->albumentations==1.1.0) (3.2.2)\n",
            "Requirement already satisfied: PyWavelets>=0.4.0 in /usr/local/lib/python3.7/dist-packages (from scikit-image>=0.16.1->albumentations==1.1.0) (1.2.0)\n",
            "Requirement already satisfied: pillow>=4.3.0 in /usr/local/lib/python3.7/dist-packages (from scikit-image>=0.16.1->albumentations==1.1.0) (7.1.2)\n",
            "Requirement already satisfied: networkx>=2.0 in /usr/local/lib/python3.7/dist-packages (from scikit-image>=0.16.1->albumentations==1.1.0) (2.6.3)\n",
            "Requirement already satisfied: imageio>=2.3.0 in /usr/local/lib/python3.7/dist-packages (from scikit-image>=0.16.1->albumentations==1.1.0) (2.4.1)\n",
            "Requirement already satisfied: kiwisolver>=1.0.1 in /usr/local/lib/python3.7/dist-packages (from matplotlib!=3.0.0,>=2.0.0->scikit-image>=0.16.1->albumentations==1.1.0) (1.3.2)\n",
            "Requirement already satisfied: cycler>=0.10 in /usr/local/lib/python3.7/dist-packages (from matplotlib!=3.0.0,>=2.0.0->scikit-image>=0.16.1->albumentations==1.1.0) (0.11.0)\n",
            "Requirement already satisfied: pyparsing!=2.0.4,!=2.1.2,!=2.1.6,>=2.0.1 in /usr/local/lib/python3.7/dist-packages (from matplotlib!=3.0.0,>=2.0.0->scikit-image>=0.16.1->albumentations==1.1.0) (2.4.7)\n",
            "Requirement already satisfied: python-dateutil>=2.1 in /usr/local/lib/python3.7/dist-packages (from matplotlib!=3.0.0,>=2.0.0->scikit-image>=0.16.1->albumentations==1.1.0) (2.8.2)\n",
            "Requirement already satisfied: six>=1.5 in /usr/local/lib/python3.7/dist-packages (from python-dateutil>=2.1->matplotlib!=3.0.0,>=2.0.0->scikit-image>=0.16.1->albumentations==1.1.0) (1.15.0)\n",
            "Requirement already satisfied: joblib>=0.11 in /usr/local/lib/python3.7/dist-packages (from scikit-learn>=0.19.1->qudida>=0.0.4->albumentations==1.1.0) (1.1.0)\n",
            "Building wheels for collected packages: albumentations\n",
            "  Building wheel for albumentations (setup.py) ... \u001b[?25l\u001b[?25hdone\n",
            "  Created wheel for albumentations: filename=albumentations-1.1.0-py3-none-any.whl size=102176 sha256=1e1c845ff6f7638531498ccb96cb35ccf700b76ea7489bc674e3c0abb4523f7f\n",
            "  Stored in directory: /tmp/pip-ephem-wheel-cache-tzdgfsp7/wheels/63/11/1a/c77caf3ae9b9b6d57b3ee5e6a41a50f3bc12c66a70f6b90bf0\n",
            "Successfully built albumentations\n",
            "Installing collected packages: opencv-python-headless, qudida, albumentations\n",
            "  Attempting uninstall: albumentations\n",
            "    Found existing installation: albumentations 0.1.12\n",
            "    Uninstalling albumentations-0.1.12:\n",
            "      Successfully uninstalled albumentations-0.1.12\n",
            "Successfully installed albumentations-1.1.0 opencv-python-headless-4.5.4.58 qudida-0.0.4\n",
            "Requirement already satisfied: torchsummary in /usr/local/lib/python3.7/dist-packages (1.5.1)\n"
          ]
        }
      ]
    },
    {
      "cell_type": "code",
      "metadata": {
        "id": "u77U72Zv2Kgy"
      },
      "source": [
        "import matplotlib.pyplot as plt\n",
        "%matplotlib inline"
      ],
      "execution_count": 2,
      "outputs": []
    },
    {
      "cell_type": "code",
      "metadata": {
        "id": "YDARlz4o2OPl"
      },
      "source": [
        "from dataset import Cifar10SearchDataset, UnNormalize\n",
        "from utils import get_stats, get_train_loader, get_test_loader, get_summary, get_device\n",
        "from augment import get_train_transform, get_test_transform\n",
        "from model import depthwise_separable_conv, Net, train_model"
      ],
      "execution_count": 3,
      "outputs": []
    },
    {
      "cell_type": "code",
      "metadata": {
        "id": "ZMzLOQr62SiP"
      },
      "source": [
        "from torch.optim.lr_scheduler import StepLR, OneCycleLR\n",
        "import torch.nn as nn\n",
        "import torch.optim as optim"
      ],
      "execution_count": 4,
      "outputs": []
    },
    {
      "cell_type": "code",
      "metadata": {
        "colab": {
          "base_uri": "https://localhost:8080/",
          "height": 82,
          "referenced_widgets": [
            "5f7ce799a68245f9b594a3fd70d163b3",
            "af4907fcad60460a9c42097a0dc44f44",
            "88f155db1a03405f8879182131da8f0f",
            "4175360e3eaf4b76abcce2c910a42231",
            "d743c2bdccbb408a8f6c49093ff2c733",
            "d70167ad8046481d86c51c174a85e060",
            "3de0d3edb5cf41b684225d6fc7b34a9b",
            "d1f4788e4a9e4b0997c1fb2cd178154f",
            "42628adfcc1d433bac24642e37ad0c85",
            "9d00d16933fb474b948b9a05e5ba3094",
            "32998d4e159c46b4abcb8ce94d591084"
          ]
        },
        "id": "rcHDm-Wr2W7G",
        "outputId": "30a0d92c-128b-43d7-e6ab-dc8c2dc34692"
      },
      "source": [
        "trainloader = get_train_loader(transform=None)"
      ],
      "execution_count": 5,
      "outputs": [
        {
          "output_type": "stream",
          "name": "stdout",
          "text": [
            "Downloading https://www.cs.toronto.edu/~kriz/cifar-10-python.tar.gz to /root/data/cifar10/cifar-10-python.tar.gz\n"
          ]
        },
        {
          "output_type": "display_data",
          "data": {
            "application/vnd.jupyter.widget-view+json": {
              "model_id": "5f7ce799a68245f9b594a3fd70d163b3",
              "version_minor": 0,
              "version_major": 2
            },
            "text/plain": [
              "  0%|          | 0/170498071 [00:00<?, ?it/s]"
            ]
          },
          "metadata": {}
        },
        {
          "output_type": "stream",
          "name": "stdout",
          "text": [
            "Extracting /root/data/cifar10/cifar-10-python.tar.gz to /root/data/cifar10\n"
          ]
        }
      ]
    },
    {
      "cell_type": "code",
      "metadata": {
        "colab": {
          "base_uri": "https://localhost:8080/"
        },
        "id": "JnC9wIFd2aJk",
        "outputId": "219fb46b-6a52-4565-bfe9-a050aea68bbb"
      },
      "source": [
        "\n",
        "mean, std = get_stats(trainloader)"
      ],
      "execution_count": 6,
      "outputs": [
        {
          "output_type": "stream",
          "name": "stdout",
          "text": [
            "[Train]\n",
            " - Numpy Shape: (50000, 32, 32, 3)\n",
            " - Tensor Shape: (50000, 32, 32, 3)\n",
            " - min: 0\n",
            " - max: 255\n",
            "\n",
            "Dataset Mean - [0.49139968 0.48215841 0.44653091]\n",
            "Dataset Std - [0.24703223 0.24348513 0.26158784] \n"
          ]
        }
      ]
    },
    {
      "cell_type": "code",
      "metadata": {
        "id": "JQt36PNG2hIE"
      },
      "source": [
        "denorm = UnNormalize(mean, std)"
      ],
      "execution_count": 7,
      "outputs": []
    },
    {
      "cell_type": "code",
      "metadata": {
        "id": "LoyJFPdf2k6x"
      },
      "source": [
        "train_transform = get_train_transform(mean, std)\n",
        "test_transform = get_test_transform(mean, std)"
      ],
      "execution_count": 8,
      "outputs": []
    },
    {
      "cell_type": "code",
      "metadata": {
        "colab": {
          "base_uri": "https://localhost:8080/"
        },
        "id": "nnqmq9Ix2p0s",
        "outputId": "5b42d73f-5f3a-41a4-f4a9-c93bb58488cb"
      },
      "source": [
        "trainloader = get_train_loader(transform=train_transform)\n",
        "testloader = get_test_loader(transform=test_transform)"
      ],
      "execution_count": 9,
      "outputs": [
        {
          "output_type": "stream",
          "name": "stdout",
          "text": [
            "Files already downloaded and verified\n",
            "Files already downloaded and verified\n"
          ]
        }
      ]
    },
    {
      "cell_type": "code",
      "metadata": {
        "colab": {
          "base_uri": "https://localhost:8080/"
        },
        "id": "UavjB64z20HK",
        "outputId": "26b209c1-c136-4688-d08e-fa57c073e2fd"
      },
      "source": [
        "device = get_device()"
      ],
      "execution_count": 10,
      "outputs": [
        {
          "output_type": "stream",
          "name": "stdout",
          "text": [
            "CUDA Available? False\n"
          ]
        }
      ]
    },
    {
      "cell_type": "code",
      "metadata": {
        "colab": {
          "base_uri": "https://localhost:8080/"
        },
        "id": "7p-yBrtw230Z",
        "outputId": "99d27ebb-dc0d-4c46-fa13-a625b60519c7"
      },
      "source": [
        "model = Net().to(device)\n",
        "get_summary(model, device)"
      ],
      "execution_count": 11,
      "outputs": [
        {
          "output_type": "stream",
          "name": "stdout",
          "text": [
            "----------------------------------------------------------------\n",
            "        Layer (type)               Output Shape         Param #\n",
            "================================================================\n",
            "            Conv2d-1           [-1, 32, 32, 32]             864\n",
            "       BatchNorm2d-2           [-1, 32, 32, 32]              64\n",
            "              ReLU-3           [-1, 32, 32, 32]               0\n",
            "            Conv2d-4           [-1, 32, 32, 32]             288\n",
            "       BatchNorm2d-5           [-1, 32, 32, 32]              64\n",
            "              ReLU-6           [-1, 32, 32, 32]               0\n",
            "            Conv2d-7           [-1, 32, 34, 34]           1,024\n",
            "       BatchNorm2d-8           [-1, 32, 34, 34]              64\n",
            "              ReLU-9           [-1, 32, 34, 34]               0\n",
            "depthwise_separable_conv-10           [-1, 32, 34, 34]               0\n",
            "           Conv2d-11           [-1, 32, 34, 34]             288\n",
            "      BatchNorm2d-12           [-1, 32, 34, 34]              64\n",
            "             ReLU-13           [-1, 32, 34, 34]               0\n",
            "           Conv2d-14           [-1, 32, 36, 36]           1,024\n",
            "      BatchNorm2d-15           [-1, 32, 36, 36]              64\n",
            "             ReLU-16           [-1, 32, 36, 36]               0\n",
            "depthwise_separable_conv-17           [-1, 32, 36, 36]               0\n",
            "           Conv2d-18           [-1, 32, 36, 36]             288\n",
            "      BatchNorm2d-19           [-1, 32, 36, 36]              64\n",
            "             ReLU-20           [-1, 32, 36, 36]               0\n",
            "           Conv2d-21           [-1, 32, 38, 38]           1,024\n",
            "      BatchNorm2d-22           [-1, 32, 38, 38]              64\n",
            "             ReLU-23           [-1, 32, 38, 38]               0\n",
            "depthwise_separable_conv-24           [-1, 32, 38, 38]               0\n",
            "           Conv2d-25           [-1, 32, 17, 17]           9,216\n",
            "      BatchNorm2d-26           [-1, 32, 17, 17]              64\n",
            "             ReLU-27           [-1, 32, 17, 17]               0\n",
            "           Conv2d-28           [-1, 64, 17, 17]          18,432\n",
            "      BatchNorm2d-29           [-1, 64, 17, 17]             128\n",
            "             ReLU-30           [-1, 64, 17, 17]               0\n",
            "           Conv2d-31           [-1, 64, 17, 17]             576\n",
            "      BatchNorm2d-32           [-1, 64, 17, 17]             128\n",
            "             ReLU-33           [-1, 64, 17, 17]               0\n",
            "           Conv2d-34           [-1, 64, 19, 19]           4,096\n",
            "      BatchNorm2d-35           [-1, 64, 19, 19]             128\n",
            "             ReLU-36           [-1, 64, 19, 19]               0\n",
            "depthwise_separable_conv-37           [-1, 64, 19, 19]               0\n",
            "           Conv2d-38           [-1, 64, 19, 19]             576\n",
            "      BatchNorm2d-39           [-1, 64, 19, 19]             128\n",
            "             ReLU-40           [-1, 64, 19, 19]               0\n",
            "           Conv2d-41           [-1, 64, 21, 21]           4,096\n",
            "      BatchNorm2d-42           [-1, 64, 21, 21]             128\n",
            "             ReLU-43           [-1, 64, 21, 21]               0\n",
            "depthwise_separable_conv-44           [-1, 64, 21, 21]               0\n",
            "           Conv2d-45           [-1, 64, 21, 21]             576\n",
            "      BatchNorm2d-46           [-1, 64, 21, 21]             128\n",
            "             ReLU-47           [-1, 64, 21, 21]               0\n",
            "           Conv2d-48           [-1, 64, 23, 23]           4,096\n",
            "      BatchNorm2d-49           [-1, 64, 23, 23]             128\n",
            "             ReLU-50           [-1, 64, 23, 23]               0\n",
            "depthwise_separable_conv-51           [-1, 64, 23, 23]               0\n",
            "           Conv2d-52           [-1, 16, 10, 10]           9,216\n",
            "      BatchNorm2d-53           [-1, 16, 10, 10]              32\n",
            "             ReLU-54           [-1, 16, 10, 10]               0\n",
            "           Conv2d-55           [-1, 32, 10, 10]           4,608\n",
            "      BatchNorm2d-56           [-1, 32, 10, 10]              64\n",
            "             ReLU-57           [-1, 32, 10, 10]               0\n",
            "           Conv2d-58           [-1, 32, 10, 10]             288\n",
            "      BatchNorm2d-59           [-1, 32, 10, 10]              64\n",
            "             ReLU-60           [-1, 32, 10, 10]               0\n",
            "           Conv2d-61           [-1, 32, 12, 12]           1,024\n",
            "      BatchNorm2d-62           [-1, 32, 12, 12]              64\n",
            "             ReLU-63           [-1, 32, 12, 12]               0\n",
            "depthwise_separable_conv-64           [-1, 32, 12, 12]               0\n",
            "           Conv2d-65           [-1, 32, 12, 12]             288\n",
            "      BatchNorm2d-66           [-1, 32, 12, 12]              64\n",
            "             ReLU-67           [-1, 32, 12, 12]               0\n",
            "           Conv2d-68           [-1, 32, 14, 14]           1,024\n",
            "      BatchNorm2d-69           [-1, 32, 14, 14]              64\n",
            "             ReLU-70           [-1, 32, 14, 14]               0\n",
            "depthwise_separable_conv-71           [-1, 32, 14, 14]               0\n",
            "           Conv2d-72           [-1, 32, 14, 14]             288\n",
            "      BatchNorm2d-73           [-1, 32, 14, 14]              64\n",
            "             ReLU-74           [-1, 32, 14, 14]               0\n",
            "           Conv2d-75           [-1, 32, 16, 16]           1,024\n",
            "      BatchNorm2d-76           [-1, 32, 16, 16]              64\n",
            "             ReLU-77           [-1, 32, 16, 16]               0\n",
            "depthwise_separable_conv-78           [-1, 32, 16, 16]               0\n",
            "           Conv2d-79             [-1, 32, 6, 6]           9,216\n",
            "      BatchNorm2d-80             [-1, 32, 6, 6]              64\n",
            "             ReLU-81             [-1, 32, 6, 6]               0\n",
            "           Conv2d-82             [-1, 32, 4, 4]           9,216\n",
            "      BatchNorm2d-83             [-1, 32, 4, 4]              64\n",
            "             ReLU-84             [-1, 32, 4, 4]               0\n",
            "           Conv2d-85             [-1, 32, 4, 4]             288\n",
            "      BatchNorm2d-86             [-1, 32, 4, 4]              64\n",
            "             ReLU-87             [-1, 32, 4, 4]               0\n",
            "           Conv2d-88             [-1, 32, 6, 6]           1,024\n",
            "      BatchNorm2d-89             [-1, 32, 6, 6]              64\n",
            "             ReLU-90             [-1, 32, 6, 6]               0\n",
            "depthwise_separable_conv-91             [-1, 32, 6, 6]               0\n",
            "           Conv2d-92             [-1, 42, 4, 4]          12,096\n",
            "      BatchNorm2d-93             [-1, 42, 4, 4]              84\n",
            "             ReLU-94             [-1, 42, 4, 4]               0\n",
            "        AvgPool2d-95             [-1, 42, 1, 1]               0\n",
            "           Conv2d-96             [-1, 32, 1, 1]           1,344\n",
            "           Conv2d-97             [-1, 10, 1, 1]             320\n",
            "================================================================\n",
            "Total params: 99,956\n",
            "Trainable params: 99,956\n",
            "Non-trainable params: 0\n",
            "----------------------------------------------------------------\n",
            "Input size (MB): 0.01\n",
            "Forward/backward pass size (MB): 13.05\n",
            "Params size (MB): 0.38\n",
            "Estimated Total Size (MB): 13.44\n",
            "----------------------------------------------------------------\n",
            "None\n"
          ]
        }
      ]
    },
    {
      "cell_type": "code",
      "metadata": {
        "id": "9AP8BlTv29WL"
      },
      "source": [
        "criterion = nn.CrossEntropyLoss()\n",
        "\n",
        "model =  Net().to(device)\n",
        "optimizer = optim.SGD(model.parameters(), lr=0.001, momentum=0.8)\n",
        "scheduler = OneCycleLR(optimizer, max_lr=0.05, epochs=300, steps_per_epoch=len(trainloader))\n",
        "\n",
        "EPOCHS = 300"
      ],
      "execution_count": 12,
      "outputs": []
    },
    {
      "cell_type": "code",
      "metadata": {
        "colab": {
          "base_uri": "https://localhost:8080/"
        },
        "id": "3Qc1g7N43B-5",
        "outputId": "48039f10-5512-43e0-acb3-ae64bba0ab71"
      },
      "source": [
        "results = train_model(model, criterion, device, trainloader, testloader, optimizer, scheduler, EPOCHS)"
      ],
      "execution_count": null,
      "outputs": [
        {
          "output_type": "stream",
          "name": "stdout",
          "text": [
            "EPOCH: 0\n"
          ]
        },
        {
          "output_type": "stream",
          "name": "stderr",
          "text": [
            "Loss=2.110868215560913 Batch_id=390 Accuracy=16.41: 100%|██████████| 391/391 [12:15<00:00,  1.88s/it]\n"
          ]
        },
        {
          "output_type": "stream",
          "name": "stdout",
          "text": [
            "\n",
            "Test set: Average loss: 0.0159, Accuracy: 2360/10000 (23.60%)\n",
            "\n",
            "EPOCH: 1\n"
          ]
        },
        {
          "output_type": "stream",
          "name": "stderr",
          "text": [
            "Loss=1.7960424423217773 Batch_id=390 Accuracy=27.10: 100%|██████████| 391/391 [12:26<00:00,  1.91s/it]\n"
          ]
        },
        {
          "output_type": "stream",
          "name": "stdout",
          "text": [
            "\n",
            "Test set: Average loss: 0.0136, Accuracy: 3450/10000 (34.50%)\n",
            "\n",
            "EPOCH: 2\n"
          ]
        },
        {
          "output_type": "stream",
          "name": "stderr",
          "text": [
            "Loss=1.7949821949005127 Batch_id=390 Accuracy=32.10: 100%|██████████| 391/391 [12:31<00:00,  1.92s/it]\n"
          ]
        },
        {
          "output_type": "stream",
          "name": "stdout",
          "text": [
            "\n",
            "Test set: Average loss: 0.0129, Accuracy: 3981/10000 (39.81%)\n",
            "\n",
            "EPOCH: 3\n"
          ]
        },
        {
          "output_type": "stream",
          "name": "stderr",
          "text": [
            "Loss=1.6859461069107056 Batch_id=390 Accuracy=37.04: 100%|██████████| 391/391 [12:24<00:00,  1.91s/it]\n"
          ]
        },
        {
          "output_type": "stream",
          "name": "stdout",
          "text": [
            "\n",
            "Test set: Average loss: 0.0116, Accuracy: 4494/10000 (44.94%)\n",
            "\n",
            "EPOCH: 4\n"
          ]
        },
        {
          "output_type": "stream",
          "name": "stderr",
          "text": [
            "Loss=1.5253021717071533 Batch_id=390 Accuracy=40.52: 100%|██████████| 391/391 [12:23<00:00,  1.90s/it]\n"
          ]
        },
        {
          "output_type": "stream",
          "name": "stdout",
          "text": [
            "\n",
            "Test set: Average loss: 0.0110, Accuracy: 4884/10000 (48.84%)\n",
            "\n",
            "EPOCH: 5\n"
          ]
        },
        {
          "output_type": "stream",
          "name": "stderr",
          "text": [
            "Loss=1.3067998886108398 Batch_id=38 Accuracy=43.05:  10%|▉         | 39/391 [01:15<11:15,  1.92s/it]"
          ]
        }
      ]
    }
  ]
}